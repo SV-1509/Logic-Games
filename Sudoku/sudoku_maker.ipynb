{
 "cells": [
  {
   "cell_type": "code",
   "execution_count": 1,
   "metadata": {},
   "outputs": [],
   "source": [
    "import random\n",
    "import numpy as np\n",
    "grid=[]\n",
    "sudoku=[]\n",
    "arr=[0,1,2,3,4,5,6,7,8]\n",
    "arr1=[]"
   ]
  },
  {
   "cell_type": "code",
   "execution_count": 2,
   "metadata": {},
   "outputs": [],
   "source": [
    "def check(x,y,n):\n",
    "    global grid\n",
    "    for i in range(0,9):\n",
    "        if grid[x][i]==n:\n",
    "            return False\n",
    "    for i in range(0,9):\n",
    "        if grid[i][y]==n:\n",
    "            return False\n",
    "    xo=(x//3)*3\n",
    "    yo=(y//3)*3\n",
    "    for i in range(0,3):\n",
    "        for j in range(0,3):\n",
    "            if grid[xo+i][yo+j]==n:\n",
    "                return False\n",
    "    return True"
   ]
  },
  {
   "cell_type": "code",
   "execution_count": 3,
   "metadata": {},
   "outputs": [],
   "source": [
    "def create():\n",
    "    global it,sudoku,grid,arr1\n",
    "    while it == True:\n",
    "        \n",
    "        for x in arr:\n",
    "            for y in arr1:\n",
    "                if grid[x][y]==0:\n",
    "                    for n in range(1,10):\n",
    "                        if check(x,y,n):\n",
    "                            grid[x][y]=n\n",
    "                            create()\n",
    "                            grid[x][y]=0\n",
    "                    return\n",
    "        it = False\n",
    "        for x in range(9):\n",
    "            q=[]\n",
    "            for y in range(9):\n",
    "                q.append(grid[x][y])\n",
    "            sudoku.append(q)"
   ]
  },
  {
   "cell_type": "code",
   "execution_count": 4,
   "metadata": {},
   "outputs": [],
   "source": [
    "def puzzle(diff):\n",
    "    global arr1,grid,sudoku,it\n",
    "    it=True\n",
    "    grid =[[0,0,0,0,0,0,0,0,0],\n",
    "[0,0,0,0,0,0,0,0,0],\n",
    "[0,0,0,0,0,0,0,0,0],\n",
    "[0,0,0,0,0,0,0,0,0],\n",
    "[0,0,0,0,0,0,0,0,0],\n",
    "[0,0,0,0,0,0,0,0,0],\n",
    "[0,0,0,0,0,0,0,0,0],\n",
    "[0,0,0,0,0,0,0,0,0],\n",
    "[0,0,0,0,0,0,0,0,0]]\n",
    "    sudoku=[]\n",
    "    \n",
    "    arr1=random.sample(arr,9)\n",
    "    create()\n",
    "    for i in range(diff):\n",
    "            x=random.randint(0,8)\n",
    "            y=random.randint(0,8)\n",
    "            sudoku[x][y]=0\n",
    "    return sudoku"
   ]
  },
  {
   "cell_type": "code",
   "execution_count": 5,
   "metadata": {},
   "outputs": [
    {
     "name": "stdout",
     "output_type": "stream",
     "text": [
      "[[6, 0, 8, 0, 0, 7, 0, 0, 9], [5, 4, 9, 1, 0, 0, 0, 6, 7], [0, 1, 0, 0, 0, 9, 3, 0, 0], [0, 2, 5, 0, 0, 0, 4, 0, 0], [7, 0, 0, 0, 8, 2, 5, 0, 3], [0, 8, 0, 6, 0, 5, 7, 1, 0], [0, 0, 0, 0, 0, 4, 6, 2, 5], [0, 0, 6, 0, 2, 3, 8, 0, 4], [0, 7, 0, 8, 0, 0, 9, 0, 0]]\n"
     ]
    }
   ],
   "source": []
  },
  {
   "cell_type": "code",
   "execution_count": null,
   "metadata": {},
   "outputs": [],
   "source": []
  },
  {
   "cell_type": "code",
   "execution_count": null,
   "metadata": {},
   "outputs": [],
   "source": []
  }
 ],
 "metadata": {
  "kernelspec": {
   "display_name": "Python 3",
   "language": "python",
   "name": "python3"
  },
  "language_info": {
   "codemirror_mode": {
    "name": "ipython",
    "version": 3
   },
   "file_extension": ".py",
   "mimetype": "text/x-python",
   "name": "python",
   "nbconvert_exporter": "python",
   "pygments_lexer": "ipython3",
   "version": "3.6.9"
  }
 },
 "nbformat": 4,
 "nbformat_minor": 4
}
