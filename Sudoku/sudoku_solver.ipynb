{
 "cells": [
  {
   "cell_type": "code",
   "execution_count": 1,
   "metadata": {},
   "outputs": [],
   "source": [
    "import numpy as np\n",
    "sudoku =[\n",
    "[5,3,0,0,7,0,0,0,0],\n",
    "[6,0,0,1,9,5,0,0,0],\n",
    "[0,9,8,0,0,0,0,6,0],\n",
    "[8,0,0,0,6,0,0,0,3],\n",
    "[4,0,0,8,0,3,0,0,1],\n",
    "[7,0,0,0,2,0,0,0,6],\n",
    "[0,6,0,0,0,0,2,8,0],\n",
    "[0,0,0,4,1,9,0,0,5],\n",
    "[0,0,0,0,8,0,0,7,9]\n",
    "]\n",
    "grid=[]"
   ]
  },
  {
   "cell_type": "code",
   "execution_count": 2,
   "metadata": {},
   "outputs": [],
   "source": [
    "def check(x,y,n):\n",
    "    global sudoku\n",
    "    for i in range(0,9):\n",
    "        if sudoku[x][i]==n:\n",
    "            return False\n",
    "    for i in range(0,9):\n",
    "        if sudoku[i][y]==n:\n",
    "            return False\n",
    "    xo=(x//3)*3\n",
    "    yo=(y//3)*3\n",
    "    for i in range(0,3):\n",
    "        for j in range(0,3):\n",
    "            if sudoku[xo+i][yo+j]==n:\n",
    "                return False\n",
    "    return True"
   ]
  },
  {
   "cell_type": "code",
   "execution_count": 3,
   "metadata": {},
   "outputs": [],
   "source": [
    "def solve():\n",
    "    global sudoku,grid\n",
    "    for x in range(9):\n",
    "        for y in range(9):\n",
    "            if sudoku[x][y]==0:\n",
    "                for n in range(1,10):\n",
    "                    if check(x,y,n):\n",
    "                        sudoku[x][y]=n\n",
    "                        solve()\n",
    "                        sudoku[x][y]=0\n",
    "                return\n",
    "    grid=[]\n",
    "    for x in range(9):\n",
    "            q=[]\n",
    "            for y in range(9):\n",
    "                q.append(sudoku[x][y])\n",
    "            grid.append(q)\n",
    "    \n",
    "    "
   ]
  },
  {
   "cell_type": "code",
   "execution_count": 4,
   "metadata": {},
   "outputs": [],
   "source": [
    "def ans():\n",
    "    solve()\n",
    "    return grid"
   ]
  },
  {
   "cell_type": "code",
   "execution_count": null,
   "metadata": {},
   "outputs": [],
   "source": []
  },
  {
   "cell_type": "code",
   "execution_count": null,
   "metadata": {},
   "outputs": [],
   "source": []
  },
  {
   "cell_type": "code",
   "execution_count": null,
   "metadata": {},
   "outputs": [],
   "source": []
  }
 ],
 "metadata": {
  "kernelspec": {
   "display_name": "Python 3",
   "language": "python",
   "name": "python3"
  },
  "language_info": {
   "codemirror_mode": {
    "name": "ipython",
    "version": 3
   },
   "file_extension": ".py",
   "mimetype": "text/x-python",
   "name": "python",
   "nbconvert_exporter": "python",
   "pygments_lexer": "ipython3",
   "version": "3.6.9"
  }
 },
 "nbformat": 4,
 "nbformat_minor": 4
}
