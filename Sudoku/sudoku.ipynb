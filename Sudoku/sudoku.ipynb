{
 "cells": [
  {
   "cell_type": "code",
   "execution_count": 106,
   "metadata": {},
   "outputs": [],
   "source": [
    "import numpy as np\n",
    "sudoku =[[0,6,0,7,4,9,0,0,8],\n",
    "[0,0,0,0,0,0,0,0,0],\n",
    "[0,8,0,0,5,0,0,0,0],\n",
    "[0,0,0,0,9,0,0,0,0],\n",
    "[5,0,0,1,0,0,7,0,0],\n",
    "[4,0,0,0,7,0,1,3,2],\n",
    "[0,0,0,8,0,2,0,0,6],\n",
    "[0,0,0,0,0,0,0,0,4],\n",
    "[2,0,0,4,0,0,0,0,7]]\n"
   ]
  },
  {
   "cell_type": "code",
   "execution_count": 107,
   "metadata": {},
   "outputs": [],
   "source": [
    "def check(x,y,n):\n",
    "    global sudoku\n",
    "    for i in range(0,9):\n",
    "        if sudoku[x][i]==n:\n",
    "            return False\n",
    "    for i in range(0,9):\n",
    "        if sudoku[i][y]==n:\n",
    "            return False\n",
    "    xo=(x//3)*3\n",
    "    yo=(y//3)*3\n",
    "    for i in range(0,3):\n",
    "        for j in range(0,3):\n",
    "            if sudoku[xo+i][yo+j]==n:\n",
    "                return False\n",
    "    return True"
   ]
  },
  {
   "cell_type": "code",
   "execution_count": 108,
   "metadata": {},
   "outputs": [],
   "source": [
    "def solve():\n",
    "    global sudoku\n",
    "    for x in range(9):\n",
    "        for y in range(9):\n",
    "            if sudoku[x][y]==0:\n",
    "                for n in range(1,10):\n",
    "                    if check(x,y,n):\n",
    "                        sudoku[x][y]=n\n",
    "                        solve()\n",
    "                        sudoku[x][y]=0\n",
    "                return\n",
    "    print(np.matrix(sudoku))\n",
    "    "
   ]
  },
  {
   "cell_type": "code",
   "execution_count": 109,
   "metadata": {},
   "outputs": [
    {
     "name": "stdout",
     "output_type": "stream",
     "text": [
      "[[3 6 1 7 4 9 2 5 8]\n",
      " [9 4 5 3 2 8 6 7 1]\n",
      " [7 8 2 6 5 1 9 4 3]\n",
      " [6 1 7 2 9 3 4 8 5]\n",
      " [5 2 3 1 8 4 7 6 9]\n",
      " [4 9 8 5 7 6 1 3 2]\n",
      " [1 7 4 8 3 2 5 9 6]\n",
      " [8 5 6 9 1 7 3 2 4]\n",
      " [2 3 9 4 6 5 8 1 7]]\n"
     ]
    }
   ],
   "source": [
    "solve()"
   ]
  },
  {
   "cell_type": "code",
   "execution_count": null,
   "metadata": {},
   "outputs": [],
   "source": []
  },
  {
   "cell_type": "code",
   "execution_count": null,
   "metadata": {},
   "outputs": [],
   "source": []
  },
  {
   "cell_type": "code",
   "execution_count": null,
   "metadata": {},
   "outputs": [],
   "source": []
  }
 ],
 "metadata": {
  "kernelspec": {
   "display_name": "Python 3",
   "language": "python",
   "name": "python3"
  },
  "language_info": {
   "codemirror_mode": {
    "name": "ipython",
    "version": 3
   },
   "file_extension": ".py",
   "mimetype": "text/x-python",
   "name": "python",
   "nbconvert_exporter": "python",
   "pygments_lexer": "ipython3",
   "version": "3.6.9"
  }
 },
 "nbformat": 4,
 "nbformat_minor": 4
}
